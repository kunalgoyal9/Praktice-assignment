{
 "cells": [
  {
   "cell_type": "code",
   "execution_count": 64,
   "metadata": {},
   "outputs": [],
   "source": [
    "import pandas as pd\n",
    "import numpy as np\n",
    "from bs4 import BeautifulSoup as bs\n",
    "import requests as rq\n",
    "import re\n",
    "import lxml.html as lh"
   ]
  },
  {
   "cell_type": "code",
   "execution_count": 94,
   "metadata": {},
   "outputs": [],
   "source": [
    "page = rq.get('https://www.internetworldstats.com/list2.htm#a-c')\n",
    "soup = bs(page.content,'html.parser')"
   ]
  },
  {
   "cell_type": "code",
   "execution_count": 95,
   "metadata": {},
   "outputs": [],
   "source": [
    "doc = lh.fromstring(page.content)"
   ]
  },
  {
   "cell_type": "code",
   "execution_count": 96,
   "metadata": {},
   "outputs": [],
   "source": [
    "tr_elements = doc.xpath('//tr')"
   ]
  },
  {
   "cell_type": "code",
   "execution_count": 97,
   "metadata": {},
   "outputs": [
    {
     "data": {
      "text/plain": [
       "'\\r\\n\\r\\nAfrica\\r\\n\\r\\n\\r\\n--\\r\\n\\r\\n\\r\\n30,221,532\\r\\n\\r\\n\\r\\n1,287,914,329\\r\\n\\r\\n\\r\\n453,329,534\\r\\n\\r\\n\\r\\n35.2\\r\\n%\\r\\n\\r\\n\\r\\nDec/2017\\r\\n\\r\\n'"
      ]
     },
     "execution_count": 97,
     "metadata": {},
     "output_type": "execute_result"
    }
   ],
   "source": [
    "tr_elements[15].text_content()"
   ]
  },
  {
   "cell_type": "code",
   "execution_count": 29,
   "metadata": {},
   "outputs": [
    {
     "data": {
      "text/plain": [
       "312"
      ]
     },
     "execution_count": 29,
     "metadata": {},
     "output_type": "execute_result"
    }
   ],
   "source": [
    "len(tr_elements)"
   ]
  },
  {
   "cell_type": "code",
   "execution_count": 36,
   "metadata": {},
   "outputs": [
    {
     "data": {
      "text/plain": [
       "'\\r\\n\\r\\nZimbabwe\\r\\n\\r\\n\\r\\nZW\\r\\n\\r\\n\\r\\n390,784\\r\\n\\r\\n\\r\\n14,546,961\\r\\n\\r\\n\\r\\n6,759,032\\r\\n\\r\\n\\r\\n46.5 %\\r\\n\\r\\n\\r\\nJun/2016\\r\\n\\r\\n'"
      ]
     },
     "execution_count": 36,
     "metadata": {},
     "output_type": "execute_result"
    }
   ],
   "source": [
    "tr_elements[289].text_content()"
   ]
  },
  {
   "cell_type": "code",
   "execution_count": 39,
   "metadata": {},
   "outputs": [
    {
     "data": {
      "text/plain": [
       "'\\r\\n\\r\\nWallis and\\r\\nFutuna\\r\\n\\r\\n\\r\\nWF\\r\\n\\r\\n\\r\\n274\\r\\n\\r\\n\\r\\n15,561\\r\\n\\r\\n\\r\\n1,337\\r\\n\\r\\n\\r\\n8.6\\r\\n%\\r\\n\\r\\n\\r\\nDec/2013\\r\\n\\r\\n'"
      ]
     },
     "execution_count": 39,
     "metadata": {},
     "output_type": "execute_result"
    }
   ],
   "source": [
    "tr_elements[285].text_content().replace('\\r')"
   ]
  },
  {
   "cell_type": "code",
   "execution_count": 57,
   "metadata": {},
   "outputs": [
    {
     "data": {
      "text/plain": [
       "'\\r'"
      ]
     },
     "execution_count": 57,
     "metadata": {},
     "output_type": "execute_result"
    }
   ],
   "source": [
    "tr_elements[13].text_content()"
   ]
  },
  {
   "cell_type": "code",
   "execution_count": 100,
   "metadata": {},
   "outputs": [],
   "source": [
    "data = []\n",
    "for table in tr_elements[13:290]:\n",
    "    data.append(table.text_content())"
   ]
  },
  {
   "cell_type": "code",
   "execution_count": 155,
   "metadata": {},
   "outputs": [
    {
     "name": "stdout",
     "output_type": "stream",
     "text": [
      "277\n"
     ]
    }
   ],
   "source": [
    "print(len(data))"
   ]
  },
  {
   "cell_type": "code",
   "execution_count": 80,
   "metadata": {},
   "outputs": [
    {
     "data": {
      "text/plain": [
       "'\\r\\n\\r\\nCountry or\\r\\nRegion Name\\r\\n\\r\\n\\r\\nSym\\r\\n-bol\\r\\n\\r\\n\\r\\nSize\\r\\n(sq. km.)\\r\\n\\r\\n\\r\\nPopulation\\r\\n(2018 est.)\\r\\n\\r\\n\\r\\nInternet\\r\\nUsers\\r\\n\\r\\n\\r\\nInternet\\r\\nPenetration\\r\\n\\r\\n\\r\\nData\\r\\ndate\\r\\n\\r\\n'"
      ]
     },
     "execution_count": 80,
     "metadata": {},
     "output_type": "execute_result"
    }
   ],
   "source": [
    "re.sub('[a-z A-Z]\\r\\n[a-z A-Z]','',data[0])"
   ]
  },
  {
   "cell_type": "code",
   "execution_count": 157,
   "metadata": {},
   "outputs": [
    {
     "name": "stderr",
     "output_type": "stream",
     "text": [
      "IOPub data rate exceeded.\n",
      "The notebook server will temporarily stop sending output\n",
      "to the client in order to avoid crashing it.\n",
      "To change this limit, set the config variable\n",
      "`--NotebookApp.iopub_data_rate_limit`.\n",
      "\n",
      "Current values:\n",
      "NotebookApp.iopub_data_rate_limit=1000000.0 (bytes/sec)\n",
      "NotebookApp.rate_limit_window=3.0 (secs)\n",
      "\n"
     ]
    },
    {
     "ename": "ValueError",
     "evalue": "list.remove(x): x not in list",
     "output_type": "error",
     "traceback": [
      "\u001b[0;31m---------------------------------------------------------------------------\u001b[0m",
      "\u001b[0;31mValueError\u001b[0m                                Traceback (most recent call last)",
      "\u001b[0;32m<ipython-input-157-4f951fd5fc35>\u001b[0m in \u001b[0;36m<module>\u001b[0;34m()\u001b[0m\n\u001b[1;32m     14\u001b[0m     \u001b[0;32mfor\u001b[0m \u001b[0mi\u001b[0m \u001b[0;32min\u001b[0m \u001b[0mrange\u001b[0m\u001b[0;34m(\u001b[0m\u001b[0mlen\u001b[0m\u001b[0;34m(\u001b[0m\u001b[0mrmv\u001b[0m\u001b[0;34m)\u001b[0m\u001b[0;34m)\u001b[0m\u001b[0;34m:\u001b[0m\u001b[0;34m\u001b[0m\u001b[0m\n\u001b[1;32m     15\u001b[0m         \u001b[0;32mif\u001b[0m\u001b[0;34m(\u001b[0m\u001b[0mlen\u001b[0m\u001b[0;34m(\u001b[0m\u001b[0ms\u001b[0m\u001b[0;34m)\u001b[0m\u001b[0;34m>\u001b[0m\u001b[0;36m0\u001b[0m\u001b[0;34m)\u001b[0m\u001b[0;34m:\u001b[0m\u001b[0;34m\u001b[0m\u001b[0m\n\u001b[0;32m---> 16\u001b[0;31m             \u001b[0ms\u001b[0m\u001b[0;34m.\u001b[0m\u001b[0mremove\u001b[0m\u001b[0;34m(\u001b[0m\u001b[0mrmv\u001b[0m\u001b[0;34m[\u001b[0m\u001b[0mi\u001b[0m\u001b[0;34m]\u001b[0m\u001b[0;34m)\u001b[0m\u001b[0;34m\u001b[0m\u001b[0m\n\u001b[0m\u001b[1;32m     17\u001b[0m     \u001b[0mdata2\u001b[0m\u001b[0;34m.\u001b[0m\u001b[0mappend\u001b[0m\u001b[0;34m(\u001b[0m\u001b[0ms\u001b[0m\u001b[0;34m)\u001b[0m\u001b[0;34m\u001b[0m\u001b[0m\n\u001b[1;32m     18\u001b[0m     \u001b[0mprint\u001b[0m\u001b[0;34m(\u001b[0m\u001b[0mdata2\u001b[0m\u001b[0;34m)\u001b[0m\u001b[0;34m\u001b[0m\u001b[0m\n",
      "\u001b[0;31mValueError\u001b[0m: list.remove(x): x not in list"
     ]
    }
   ],
   "source": [
    "data2 = []\n",
    "for idx in range(len(data[:205])):\n",
    "    string = data[idx]\n",
    "    s = string.split('\\r\\n')\n",
    "    rmv = []\n",
    "    print(s)\n",
    "    for i in range(len(s)-1):\n",
    "        if s[i] != '' and s[i+1]!='':\n",
    "            s[i] += ' ' + s[i+1]\n",
    "            rmv.append(s[i+1])\n",
    "            i+=1\n",
    "    print(rmv)\n",
    "#     s = list(s)\n",
    "    for i in range(len(rmv)):\n",
    "        if(len(s)>0):\n",
    "            s.remove(rmv[i])\n",
    "    data2.append(s)\n",
    "    print(data2)"
   ]
  },
  {
   "cell_type": "code",
   "execution_count": 198,
   "metadata": {},
   "outputs": [],
   "source": [
    "data2 = []\n",
    "for idx in range(len(data)):\n",
    "    try:\n",
    "        string = data[idx]\n",
    "        s = string.split('\\r\\n')\n",
    "        rmv = []\n",
    "#         print(s)\n",
    "        for i in range(len(s)-1):\n",
    "            if s[i] != '' and s[i+1]!='':\n",
    "                s[i] += ' ' + s[i+1]\n",
    "                rmv.append(s[i+1])\n",
    "                i+=1\n",
    "#         print(rmv)\n",
    "    #     s = list(s)\n",
    "        for i in range(len(rmv)):\n",
    "            if(len(s)>0):\n",
    "                s.remove(rmv[i])\n",
    "        data2.append(s)\n",
    "#         print(data2)\n",
    "    except:\n",
    "        pass"
   ]
  },
  {
   "cell_type": "code",
   "execution_count": 199,
   "metadata": {},
   "outputs": [
    {
     "ename": "AttributeError",
     "evalue": "'NoneType' object has no attribute 'shape'",
     "output_type": "error",
     "traceback": [
      "\u001b[0;31m---------------------------------------------------------------------------\u001b[0m",
      "\u001b[0;31mAttributeError\u001b[0m                            Traceback (most recent call last)",
      "\u001b[0;32m<ipython-input-199-9a5a66994832>\u001b[0m in \u001b[0;36m<module>\u001b[0;34m()\u001b[0m\n\u001b[1;32m      1\u001b[0m \u001b[0;32mfor\u001b[0m \u001b[0mi\u001b[0m \u001b[0;32min\u001b[0m \u001b[0mrange\u001b[0m\u001b[0;34m(\u001b[0m\u001b[0mlen\u001b[0m\u001b[0;34m(\u001b[0m\u001b[0mdata2\u001b[0m\u001b[0;34m)\u001b[0m\u001b[0;34m)\u001b[0m\u001b[0;34m:\u001b[0m\u001b[0;34m\u001b[0m\u001b[0m\n\u001b[1;32m      2\u001b[0m     \u001b[0mdata2\u001b[0m\u001b[0;34m[\u001b[0m\u001b[0mi\u001b[0m\u001b[0;34m]\u001b[0m \u001b[0;34m=\u001b[0m \u001b[0mdata2\u001b[0m\u001b[0;34m[\u001b[0m\u001b[0mi\u001b[0m\u001b[0;34m]\u001b[0m\u001b[0;34m.\u001b[0m\u001b[0mremove\u001b[0m\u001b[0;34m(\u001b[0m\u001b[0;34m''\u001b[0m\u001b[0;34m)\u001b[0m\u001b[0;34m\u001b[0m\u001b[0m\n\u001b[0;32m----> 3\u001b[0;31m     \u001b[0mprint\u001b[0m\u001b[0;34m(\u001b[0m\u001b[0mdata2\u001b[0m\u001b[0;34m[\u001b[0m\u001b[0mi\u001b[0m\u001b[0;34m]\u001b[0m\u001b[0;34m.\u001b[0m\u001b[0mshape\u001b[0m\u001b[0;34m)\u001b[0m\u001b[0;34m\u001b[0m\u001b[0m\n\u001b[0m",
      "\u001b[0;31mAttributeError\u001b[0m: 'NoneType' object has no attribute 'shape'"
     ]
    }
   ],
   "source": [
    "for i in range(len(data2)):\n",
    "    data2[i] = data2[i].remove('')\n",
    "#     print(data2[i].shape)"
   ]
  },
  {
   "cell_type": "code",
   "execution_count": 180,
   "metadata": {},
   "outputs": [],
   "source": [
    "# data2[0].remove('')\n",
    "for idx in range(len(data2)):\n",
    "    data2[idx] = [x for x in data2[idx] if x!='']"
   ]
  },
  {
   "cell_type": "code",
   "execution_count": 190,
   "metadata": {},
   "outputs": [],
   "source": [
    "pd_data = pd.DataFrame(data2)\n",
    "pd_data.columns = pd_data.iloc[0]"
   ]
  },
  {
   "cell_type": "code",
   "execution_count": 193,
   "metadata": {},
   "outputs": [],
   "source": [
    "pd_data = pd_data.drop(0)"
   ]
  },
  {
   "cell_type": "code",
   "execution_count": null,
   "metadata": {},
   "outputs": [],
   "source": []
  },
  {
   "cell_type": "code",
   "execution_count": 206,
   "metadata": {},
   "outputs": [],
   "source": [
    "pd_data = pd_data.drop([65,66,67,127,128,129,201,202])"
   ]
  },
  {
   "cell_type": "code",
   "execution_count": 239,
   "metadata": {},
   "outputs": [
    {
     "data": {
      "text/html": [
       "<div>\n",
       "<style scoped>\n",
       "    .dataframe tbody tr th:only-of-type {\n",
       "        vertical-align: middle;\n",
       "    }\n",
       "\n",
       "    .dataframe tbody tr th {\n",
       "        vertical-align: top;\n",
       "    }\n",
       "\n",
       "    .dataframe thead th {\n",
       "        text-align: right;\n",
       "    }\n",
       "</style>\n",
       "<table border=\"1\" class=\"dataframe\">\n",
       "  <thead>\n",
       "    <tr style=\"text-align: right;\">\n",
       "      <th></th>\n",
       "      <th>Country or Region Name</th>\n",
       "      <th>Symbol</th>\n",
       "      <th>Size (sq. km.)</th>\n",
       "      <th>Population (2018 est.)</th>\n",
       "      <th>Internet Users</th>\n",
       "      <th>Internet Penetration</th>\n",
       "      <th>data date</th>\n",
       "    </tr>\n",
       "  </thead>\n",
       "  <tbody>\n",
       "    <tr>\n",
       "      <th>1</th>\n",
       "      <td>Afghanistan</td>\n",
       "      <td>AF</td>\n",
       "      <td>645,807</td>\n",
       "      <td>36,373,176</td>\n",
       "      <td>5,700,905</td>\n",
       "      <td>15.7 %</td>\n",
       "      <td>Dec/2017</td>\n",
       "    </tr>\n",
       "    <tr>\n",
       "      <th>2</th>\n",
       "      <td>Africa</td>\n",
       "      <td>--</td>\n",
       "      <td>30,221,532</td>\n",
       "      <td>1,287,914,329</td>\n",
       "      <td>453,329,534</td>\n",
       "      <td>35.2 %</td>\n",
       "      <td>Dec/2017</td>\n",
       "    </tr>\n",
       "    <tr>\n",
       "      <th>3</th>\n",
       "      <td>Aland Islands</td>\n",
       "      <td>AX</td>\n",
       "      <td>1,580</td>\n",
       "      <td>28,666</td>\n",
       "      <td>n/a</td>\n",
       "      <td>n/a</td>\n",
       "      <td>Dec/2014</td>\n",
       "    </tr>\n",
       "    <tr>\n",
       "      <th>4</th>\n",
       "      <td>Albania</td>\n",
       "      <td>AL</td>\n",
       "      <td>28,748</td>\n",
       "      <td>2,911,428</td>\n",
       "      <td>1,916,233</td>\n",
       "      <td>65.8 %</td>\n",
       "      <td>Mar/2017</td>\n",
       "    </tr>\n",
       "    <tr>\n",
       "      <th>5</th>\n",
       "      <td>Algeria</td>\n",
       "      <td>DZ</td>\n",
       "      <td>2,381,741</td>\n",
       "      <td>42,008,054</td>\n",
       "      <td>18,580,000</td>\n",
       "      <td>44.2 %</td>\n",
       "      <td>Mar/2017</td>\n",
       "    </tr>\n",
       "  </tbody>\n",
       "</table>\n",
       "</div>"
      ],
      "text/plain": [
       "  Country or Region Name Symbol Size (sq. km.) Population (2018 est.)  \\\n",
       "1            Afghanistan     AF        645,807             36,373,176   \n",
       "2                 Africa     --     30,221,532          1,287,914,329   \n",
       "3          Aland Islands     AX          1,580                 28,666   \n",
       "4                Albania     AL         28,748              2,911,428   \n",
       "5                Algeria     DZ      2,381,741             42,008,054   \n",
       "\n",
       "  Internet Users Internet Penetration data date  \n",
       "1      5,700,905               15.7 %  Dec/2017  \n",
       "2    453,329,534               35.2 %  Dec/2017  \n",
       "3            n/a                  n/a  Dec/2014  \n",
       "4      1,916,233               65.8 %  Mar/2017  \n",
       "5     18,580,000               44.2 %  Mar/2017  "
      ]
     },
     "execution_count": 239,
     "metadata": {},
     "output_type": "execute_result"
    }
   ],
   "source": [
    "# pd_data = pd_data.drop([129,67,202])\n",
    "pd_data.head()"
   ]
  },
  {
   "cell_type": "code",
   "execution_count": 218,
   "metadata": {},
   "outputs": [],
   "source": [
    "pd_data = pd_data.dropna(axis='columns')"
   ]
  },
  {
   "cell_type": "code",
   "execution_count": 238,
   "metadata": {},
   "outputs": [
    {
     "data": {
      "text/html": [
       "<div>\n",
       "<style scoped>\n",
       "    .dataframe tbody tr th:only-of-type {\n",
       "        vertical-align: middle;\n",
       "    }\n",
       "\n",
       "    .dataframe tbody tr th {\n",
       "        vertical-align: top;\n",
       "    }\n",
       "\n",
       "    .dataframe thead th {\n",
       "        text-align: right;\n",
       "    }\n",
       "</style>\n",
       "<table border=\"1\" class=\"dataframe\">\n",
       "  <thead>\n",
       "    <tr style=\"text-align: right;\">\n",
       "      <th></th>\n",
       "      <th>Country or Region Name</th>\n",
       "      <th>Symbol</th>\n",
       "      <th>Size (sq. km.)</th>\n",
       "      <th>Population (2018 est.)</th>\n",
       "      <th>Internet Users</th>\n",
       "      <th>Internet Penetration</th>\n",
       "      <th>data date</th>\n",
       "    </tr>\n",
       "  </thead>\n",
       "  <tbody>\n",
       "    <tr>\n",
       "      <th>1</th>\n",
       "      <td>Afghanistan</td>\n",
       "      <td>AF</td>\n",
       "      <td>645,807</td>\n",
       "      <td>36,373,176</td>\n",
       "      <td>5,700,905</td>\n",
       "      <td>15.7 %</td>\n",
       "      <td>Dec/2017</td>\n",
       "    </tr>\n",
       "    <tr>\n",
       "      <th>2</th>\n",
       "      <td>Africa</td>\n",
       "      <td>--</td>\n",
       "      <td>30,221,532</td>\n",
       "      <td>1,287,914,329</td>\n",
       "      <td>453,329,534</td>\n",
       "      <td>35.2 %</td>\n",
       "      <td>Dec/2017</td>\n",
       "    </tr>\n",
       "    <tr>\n",
       "      <th>3</th>\n",
       "      <td>Aland Islands</td>\n",
       "      <td>AX</td>\n",
       "      <td>1,580</td>\n",
       "      <td>28,666</td>\n",
       "      <td>n/a</td>\n",
       "      <td>n/a</td>\n",
       "      <td>Dec/2014</td>\n",
       "    </tr>\n",
       "    <tr>\n",
       "      <th>4</th>\n",
       "      <td>Albania</td>\n",
       "      <td>AL</td>\n",
       "      <td>28,748</td>\n",
       "      <td>2,911,428</td>\n",
       "      <td>1,916,233</td>\n",
       "      <td>65.8 %</td>\n",
       "      <td>Mar/2017</td>\n",
       "    </tr>\n",
       "    <tr>\n",
       "      <th>5</th>\n",
       "      <td>Algeria</td>\n",
       "      <td>DZ</td>\n",
       "      <td>2,381,741</td>\n",
       "      <td>42,008,054</td>\n",
       "      <td>18,580,000</td>\n",
       "      <td>44.2 %</td>\n",
       "      <td>Mar/2017</td>\n",
       "    </tr>\n",
       "  </tbody>\n",
       "</table>\n",
       "</div>"
      ],
      "text/plain": [
       "  Country or Region Name Symbol Size (sq. km.) Population (2018 est.)  \\\n",
       "1            Afghanistan     AF        645,807             36,373,176   \n",
       "2                 Africa     --     30,221,532          1,287,914,329   \n",
       "3          Aland Islands     AX          1,580                 28,666   \n",
       "4                Albania     AL         28,748              2,911,428   \n",
       "5                Algeria     DZ      2,381,741             42,008,054   \n",
       "\n",
       "  Internet Users Internet Penetration data date  \n",
       "1      5,700,905               15.7 %  Dec/2017  \n",
       "2    453,329,534               35.2 %  Dec/2017  \n",
       "3            n/a                  n/a  Dec/2014  \n",
       "4      1,916,233               65.8 %  Mar/2017  \n",
       "5     18,580,000               44.2 %  Mar/2017  "
      ]
     },
     "execution_count": 238,
     "metadata": {},
     "output_type": "execute_result"
    }
   ],
   "source": [
    "pd_data.columns = ['Country or Region Name',               'Symbol',\n",
    "               'Size (sq. km.)', 'Population (2018 est.)',\n",
    "               'Internet Users',   'Internet Penetration',\n",
    "                           'data date']\n",
    "pd_data.head()"
   ]
  },
  {
   "cell_type": "code",
   "execution_count": 237,
   "metadata": {},
   "outputs": [],
   "source": [
    "pd_data.to_csv('internet_country.csv',index=False)"
   ]
  },
  {
   "cell_type": "code",
   "execution_count": null,
   "metadata": {},
   "outputs": [],
   "source": []
  },
  {
   "cell_type": "code",
   "execution_count": null,
   "metadata": {},
   "outputs": [],
   "source": []
  }
 ],
 "metadata": {
  "kernelspec": {
   "display_name": "Python 3",
   "language": "python",
   "name": "python3"
  },
  "language_info": {
   "codemirror_mode": {
    "name": "ipython",
    "version": 3
   },
   "file_extension": ".py",
   "mimetype": "text/x-python",
   "name": "python",
   "nbconvert_exporter": "python",
   "pygments_lexer": "ipython3",
   "version": "3.6.3"
  }
 },
 "nbformat": 4,
 "nbformat_minor": 2
}
